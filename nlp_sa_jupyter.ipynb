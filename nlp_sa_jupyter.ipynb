{
 "cells": [
  {
   "cell_type": "markdown",
   "metadata": {},
   "source": [
    "# Introdução\n",
    "Análise de sentimentos sempre foi um assunto que tive interesse, além de poder utilizá-la para criar soluções que podem ser usadas na empresa onde trabalho. O objetivo desse projeto é desenvolver uma solução que consiga identificar se uma frase possui um sentimento negativo ou positivo.\n",
    "\n",
    "Esse conjunto de dados foi fornecido generosamente pela Olist, a maior loja de departamentos dos mercados brasileiros. O Olist conecta pequenas empresas de todo o Brasil a canais sem problemas e com um único contrato. Esses comerciantes podem vender seus produtos através da Olist Store e enviá-los diretamente aos clientes usando os parceiros de logística da Olist. Veja mais no site: www.olist.com\n",
    "\n",
    "Depois que um cliente compra o produto na Olist Store, um vendedor é notificado para atender a esse pedido. Depois que o cliente recebe o produto ou a data estimada de entrega é vencida, ele recebe uma pesquisa de satisfação por e-mail, onde pode anotar a experiência de compra e anotar alguns comentários.\n",
    "\n",
    "Um pedido pode ter vários itens.\n",
    "Cada item pode ser atendido por um vendedor distinto.\n",
    "Todo o texto que identifica lojas e parceiros foi substituído pelos nomes das grandes casas de Game of Thrones."
   ]
  },
  {
   "cell_type": "code",
   "execution_count": 70,
   "metadata": {},
   "outputs": [],
   "source": [
    "import pandas as pd\n",
    "import numpy as np\n",
    "import spacy\n",
    "import nltk\n",
    "import string\n",
    "from nltk.stem import RSLPStemmer\n",
    "from sklearn.model_selection import train_test_split\n",
    "from sklearn.feature_extraction.text import CountVectorizer, TfidfVectorizer\n",
    "from sklearn.model_selection import train_test_split\n",
    "from time import time"
   ]
  },
  {
   "cell_type": "code",
   "execution_count": 71,
   "metadata": {},
   "outputs": [
    {
     "data": {
      "text/html": [
       "<div>\n",
       "<style scoped>\n",
       "    .dataframe tbody tr th:only-of-type {\n",
       "        vertical-align: middle;\n",
       "    }\n",
       "\n",
       "    .dataframe tbody tr th {\n",
       "        vertical-align: top;\n",
       "    }\n",
       "\n",
       "    .dataframe thead th {\n",
       "        text-align: right;\n",
       "    }\n",
       "</style>\n",
       "<table border=\"1\" class=\"dataframe\">\n",
       "  <thead>\n",
       "    <tr style=\"text-align: right;\">\n",
       "      <th></th>\n",
       "      <th>review_id</th>\n",
       "      <th>order_id</th>\n",
       "      <th>review_score</th>\n",
       "      <th>review_comment_title</th>\n",
       "      <th>review_comment_message</th>\n",
       "      <th>review_creation_date</th>\n",
       "      <th>review_answer_timestamp</th>\n",
       "    </tr>\n",
       "  </thead>\n",
       "  <tbody>\n",
       "    <tr>\n",
       "      <th>0</th>\n",
       "      <td>7bc2406110b926393aa56f80a40eba40</td>\n",
       "      <td>73fc7af87114b39712e6da79b0a377eb</td>\n",
       "      <td>4</td>\n",
       "      <td>NaN</td>\n",
       "      <td>NaN</td>\n",
       "      <td>2018-01-18 00:00:00</td>\n",
       "      <td>2018-01-18 21:46:59</td>\n",
       "    </tr>\n",
       "    <tr>\n",
       "      <th>1</th>\n",
       "      <td>80e641a11e56f04c1ad469d5645fdfde</td>\n",
       "      <td>a548910a1c6147796b98fdf73dbeba33</td>\n",
       "      <td>5</td>\n",
       "      <td>NaN</td>\n",
       "      <td>NaN</td>\n",
       "      <td>2018-03-10 00:00:00</td>\n",
       "      <td>2018-03-11 03:05:13</td>\n",
       "    </tr>\n",
       "    <tr>\n",
       "      <th>2</th>\n",
       "      <td>228ce5500dc1d8e020d8d1322874b6f0</td>\n",
       "      <td>f9e4b658b201a9f2ecdecbb34bed034b</td>\n",
       "      <td>5</td>\n",
       "      <td>NaN</td>\n",
       "      <td>NaN</td>\n",
       "      <td>2018-02-17 00:00:00</td>\n",
       "      <td>2018-02-18 14:36:24</td>\n",
       "    </tr>\n",
       "    <tr>\n",
       "      <th>3</th>\n",
       "      <td>e64fb393e7b32834bb789ff8bb30750e</td>\n",
       "      <td>658677c97b385a9be170737859d3511b</td>\n",
       "      <td>5</td>\n",
       "      <td>NaN</td>\n",
       "      <td>Recebi bem antes do prazo estipulado.</td>\n",
       "      <td>2017-04-21 00:00:00</td>\n",
       "      <td>2017-04-21 22:02:06</td>\n",
       "    </tr>\n",
       "    <tr>\n",
       "      <th>4</th>\n",
       "      <td>f7c4243c7fe1938f181bec41a392bdeb</td>\n",
       "      <td>8e6bfb81e283fa7e4f11123a3fb894f1</td>\n",
       "      <td>5</td>\n",
       "      <td>NaN</td>\n",
       "      <td>Parabéns lojas lannister adorei comprar pela I...</td>\n",
       "      <td>2018-03-01 00:00:00</td>\n",
       "      <td>2018-03-02 10:26:53</td>\n",
       "    </tr>\n",
       "  </tbody>\n",
       "</table>\n",
       "</div>"
      ],
      "text/plain": [
       "                          review_id                          order_id  \\\n",
       "0  7bc2406110b926393aa56f80a40eba40  73fc7af87114b39712e6da79b0a377eb   \n",
       "1  80e641a11e56f04c1ad469d5645fdfde  a548910a1c6147796b98fdf73dbeba33   \n",
       "2  228ce5500dc1d8e020d8d1322874b6f0  f9e4b658b201a9f2ecdecbb34bed034b   \n",
       "3  e64fb393e7b32834bb789ff8bb30750e  658677c97b385a9be170737859d3511b   \n",
       "4  f7c4243c7fe1938f181bec41a392bdeb  8e6bfb81e283fa7e4f11123a3fb894f1   \n",
       "\n",
       "   review_score review_comment_title  \\\n",
       "0             4                  NaN   \n",
       "1             5                  NaN   \n",
       "2             5                  NaN   \n",
       "3             5                  NaN   \n",
       "4             5                  NaN   \n",
       "\n",
       "                              review_comment_message review_creation_date  \\\n",
       "0                                                NaN  2018-01-18 00:00:00   \n",
       "1                                                NaN  2018-03-10 00:00:00   \n",
       "2                                                NaN  2018-02-17 00:00:00   \n",
       "3              Recebi bem antes do prazo estipulado.  2017-04-21 00:00:00   \n",
       "4  Parabéns lojas lannister adorei comprar pela I...  2018-03-01 00:00:00   \n",
       "\n",
       "  review_answer_timestamp  \n",
       "0     2018-01-18 21:46:59  \n",
       "1     2018-03-11 03:05:13  \n",
       "2     2018-02-18 14:36:24  \n",
       "3     2017-04-21 22:02:06  \n",
       "4     2018-03-02 10:26:53  "
      ]
     },
     "execution_count": 71,
     "metadata": {},
     "output_type": "execute_result"
    }
   ],
   "source": [
    "#Carrega os dados\n",
    "df_reviews = pd.read_csv('olist_order_reviews_dataset.csv')\n",
    "df_reviews.head()"
   ]
  },
  {
   "cell_type": "code",
   "execution_count": 72,
   "metadata": {},
   "outputs": [
    {
     "data": {
      "text/plain": [
       "review_id                      0\n",
       "order_id                       0\n",
       "review_score                   0\n",
       "review_comment_title       88285\n",
       "review_comment_message     58247\n",
       "review_creation_date           0\n",
       "review_answer_timestamp        0\n",
       "dtype: int64"
      ]
     },
     "execution_count": 72,
     "metadata": {},
     "output_type": "execute_result"
    }
   ],
   "source": [
    "#Qual a quantidade de registros nao informados por coluna?\n",
    "df_reviews.isnull().sum()"
   ]
  },
  {
   "cell_type": "code",
   "execution_count": 73,
   "metadata": {},
   "outputs": [],
   "source": [
    "# Removendo registros com comentarios nulos\n",
    "reviews = df_reviews.dropna(subset=['review_comment_message'])"
   ]
  },
  {
   "cell_type": "code",
   "execution_count": 74,
   "metadata": {},
   "outputs": [
    {
     "name": "stdout",
     "output_type": "stream",
     "text": [
      "Review 1: Produto chegou no prazo ótimo long \n",
      "Review 2: Mandei várias dúvidas por email, não recebi respostas.\n",
      "Review 3: Produto de ótima qualidade. Não estava disponível na cor do anúncio, mas o vendedor entrou em contato prontamente. Parabéns pelo excelente atendimento!\n",
      "Review 4: Produto chegou bem antes do prazo. Muito bem embalado. Tudo certinho. Recomendo\n",
      "Review 5: Comprar na baratheon é garantia de receber um bom produto.\n"
     ]
    }
   ],
   "source": [
    "# Amostra\n",
    "for i in range(5):\n",
    "    print(f'Review {i+1}: {np.random.choice(reviews[\"review_comment_message\"])}')"
   ]
  },
  {
   "cell_type": "markdown",
   "metadata": {},
   "source": [
    "# Normalização\n",
    "    - convertento para minúsculo\n",
    "    - removendo as palavras com menos de 3 e maios de 25 caracteres\n",
    "    - removendo as stopwords\n",
    "    - removendo as pontuações\n",
    "    - removendo a acentuação\n",
    "    - removendo as palavras de baixa frequência, menor 6\n",
    "    - rotulando em 'ADJ', 'VERB', 'ADV'\n",
    "    - stemizando\n",
    "    - lematizando"
   ]
  },
  {
   "cell_type": "code",
   "execution_count": 75,
   "metadata": {},
   "outputs": [
    {
     "name": "stderr",
     "output_type": "stream",
     "text": [
      "C:\\Users\\Renhold\\AppData\\Roaming\\Python\\Python37\\site-packages\\ipykernel_launcher.py:1: SettingWithCopyWarning: \n",
      "A value is trying to be set on a copy of a slice from a DataFrame.\n",
      "Try using .loc[row_indexer,col_indexer] = value instead\n",
      "\n",
      "See the caveats in the documentation: http://pandas.pydata.org/pandas-docs/stable/indexing.html#indexing-view-versus-copy\n",
      "  \"\"\"Entry point for launching an IPython kernel.\n"
     ]
    }
   ],
   "source": [
    "reviews['review_comment_message'] = reviews['review_comment_message'].map(lambda x: x.lower())"
   ]
  },
  {
   "cell_type": "code",
   "execution_count": 76,
   "metadata": {},
   "outputs": [],
   "source": [
    "def remove_palavras_range_3_25(texto):\n",
    "    palavras_adequadas = []\n",
    "    for p in texto.split():\n",
    "        tamanho_p = len(p)\n",
    "        if tamanho_p >= 3 and tamanho_p <= 25:\n",
    "            palavras_adequadas.append(p)\n",
    "    return \" \".join(palavras_adequadas)"
   ]
  },
  {
   "cell_type": "code",
   "execution_count": 77,
   "metadata": {},
   "outputs": [],
   "source": [
    "stopwords = nltk.corpus.stopwords.words('portuguese')\n",
    "def remove_stopwords(texto):\n",
    "    return \" \".join([p for p in texto.split() if p not in stopwords])"
   ]
  },
  {
   "cell_type": "code",
   "execution_count": 78,
   "metadata": {},
   "outputs": [],
   "source": [
    "nlp = spacy.load(\"pt_core_news_sm\")\n",
    "pontuacao = string.punctuation.strip()\n",
    "pontuacao_lista = []\n",
    "for pont in pontuacao.strip():\n",
    "    pontuacao_lista.append(pont)\n",
    "pontuacao_lista.append('º')\n",
    "pontuacao_lista.append('ª')\n",
    "pontuacao_lista.append('..')\n",
    "pontuacao_lista.append('...')\n",
    "pontuacao_lista.append('....')\n",
    "pontuacao_lista.append('.....')\n",
    "pontuacao_lista.append('......')\n",
    "pontuacao_lista.append('.......')\n",
    "pontuacao_lista.append('“')\n",
    "pontuacao_lista.append('”')\n",
    "pontuacao_lista.append('\"')\n",
    "pontuacao_lista.append('.')\n",
    "pontuacao_lista.append('/')\n",
    "def remove_pontuacao(texto):\n",
    "    texto_tokens = nlp(texto)\n",
    "    texto_tokens = [str(t) for t in texto_tokens if str(t) not in pontuacao_lista]\n",
    "    return \" \".join(texto_tokens)"
   ]
  },
  {
   "cell_type": "code",
   "execution_count": 79,
   "metadata": {},
   "outputs": [],
   "source": [
    "import unicodedata\n",
    "def remove_acentuacao(texto):\n",
    "    return unicodedata.normalize('NFKD', texto).encode('ASCII', 'ignore').decode('utf-8')"
   ]
  },
  {
   "cell_type": "code",
   "execution_count": 80,
   "metadata": {},
   "outputs": [],
   "source": [
    "from collections import Counter\n",
    "from itertools import chain\n",
    "def remove_palavras_baixa_sequencia(texto):\n",
    "    frequencia_minima = 5\n",
    "    proposicoes_tokens = texto.str.split().tolist()\n",
    "    c = Counter(chain.from_iterable(proposicoes_tokens))\n",
    "    return [' '.join([j for j in i if c[j] > frequencia_minima]) for i in proposicoes_tokens]  "
   ]
  },
  {
   "cell_type": "code",
   "execution_count": 81,
   "metadata": {},
   "outputs": [],
   "source": [
    "def rotulacao(texto):\n",
    "    entidades_nomeadas = []\n",
    "    doc = nlp(texto)\n",
    "    entidades_nomeadas.append([(entity, entity.label_) for entity in doc.ents])\n",
    "    palavras_ok = [p.text for p in doc if p.pos_ in ['ADJ', 'VERB', 'ADV']]\n",
    "    return \" \".join(palavras_ok)"
   ]
  },
  {
   "cell_type": "code",
   "execution_count": 82,
   "metadata": {},
   "outputs": [
    {
     "name": "stderr",
     "output_type": "stream",
     "text": [
      "[nltk_data] Downloading package rslp to\n",
      "[nltk_data]     C:\\Users\\Renhold\\AppData\\Roaming\\nltk_data...\n",
      "[nltk_data]   Package rslp is already up-to-date!\n"
     ]
    }
   ],
   "source": [
    "nltk.download('rslp')\n",
    "def estemizacao(texto): \n",
    "    estemizador_pt = nltk.stem.RSLPStemmer()\n",
    "    texto_tokens_estemizados = [estemizador_pt.stem(t) for t in texto.split()]\n",
    "    return \" \".join(texto_tokens_estemizados)"
   ]
  },
  {
   "cell_type": "code",
   "execution_count": 83,
   "metadata": {},
   "outputs": [],
   "source": [
    "def lematizacao(texto): \n",
    "    texto_tokens_lematizados = nlp(texto)\n",
    "    lemas = [t.lemma_ for t in texto_tokens_lematizados]\n",
    "    return \" \".join(lemas)"
   ]
  },
  {
   "cell_type": "code",
   "execution_count": 84,
   "metadata": {},
   "outputs": [],
   "source": [
    "def preprocessamento_texto_dataframe():\n",
    "    start = time()\n",
    "    reviews['review_comment_message'] = reviews['review_comment_message'].apply(remove_palavras_range_3_25)\n",
    "    print(\"Tempo para remove_palavras_range_3_25: {:.2f} sec\".format(time() - start))\n",
    "    start = time()\n",
    "    reviews['review_comment_message'] = reviews['review_comment_message'].apply(remove_stopwords)\n",
    "    print(\"Tempo para remove_stopwords: {:.2f} sec\".format(time() - start))\n",
    "    start = time()\n",
    "    reviews['review_comment_message'] = reviews['review_comment_message'].apply(remove_acentuacao)\n",
    "    print(\"Tempo para remove_acentuacao: {:.2f} sec\".format(time() - start))\n",
    "    start = time()\n",
    "    reviews['review_comment_message'] = reviews['review_comment_message'].apply(remove_pontuacao)\n",
    "    print(\"Tempo para remove_pontuacao: {:.2f} sec\".format(time() - start))\n",
    "    start = time()\n",
    "    reviews['review_comment_message'] = remove_palavras_baixa_sequencia(reviews['review_comment_message'])\n",
    "    print(\"Tempo para remove_palavras_baixa_sequencia: {:.2f} sec\".format(time() - start))\n",
    "    start = time()\n",
    "    reviews['review_comment_message'] = reviews['review_comment_message'].apply(rotulacao)\n",
    "    print(\"Tempo para rotulacao: {:.2f} sec\".format(time() - start))\n",
    "    start = time()\n",
    "    reviews['review_comment_message_estemizadas'] = reviews['review_comment_message'].apply(estemizacao)\n",
    "    print(\"Tempo para estemizacao: {:.2f} sec\".format(time() - start))\n",
    "    start = time()\n",
    "    reviews['review_comment_message_lematizadas'] = reviews['review_comment_message'].apply(lematizacao)\n",
    "    print(\"Tempo para lematizacao: {:.2f} sec\".format(time() - start))\n",
    "    start = time()\n",
    "    reviews['review_comment_message_estemizadas'] = reviews['review_comment_message_estemizadas'].apply(remove_palavras_range_3_25)\n",
    "    print(\"Tempo para remove_palavras_range_3_25(stem): {:.2f} sec\".format(time() - start))\n",
    "    start = time()\n",
    "    reviews['review_comment_message_lematizadas'] = reviews['review_comment_message_lematizadas'].apply(remove_palavras_range_3_25)\n",
    "    print(\"Tempo para remove_palavras_range_3_25(lem): {:.2f} sec\".format(time() - start))"
   ]
  },
  {
   "cell_type": "markdown",
   "metadata": {},
   "source": [
    "# Criando o label de sentimento 0=negativo, 1=positivo"
   ]
  },
  {
   "cell_type": "code",
   "execution_count": 85,
   "metadata": {},
   "outputs": [],
   "source": [
    "def cria_label_sentimento_dataframe(reviews):\n",
    "    start = time()\n",
    "    bin_range_rotulo = [0, 2, 5]\n",
    "    bin_rotulo_classificacao = ['0', '1']\n",
    "    reviews['class'] = pd.cut(reviews['review_score'], bins=bin_range_rotulo, labels=bin_rotulo_classificacao)\n",
    "    # remove algumas colunas que nao interessam\n",
    "    reviews = reviews.iloc[:, np.r_[0, 1, 3, 4, 2, 7, 8, 9]]\n",
    "    print(\"Tempo para class label: {:.2f} sec\".format(time() - start))"
   ]
  },
  {
   "cell_type": "markdown",
   "metadata": {},
   "source": [
    "# Definindo x e y, transformando em vetor de palavras e separando os dados entre treinamento e teste"
   ]
  },
  {
   "cell_type": "code",
   "execution_count": 86,
   "metadata": {},
   "outputs": [],
   "source": [
    "def cria_dados_treinamento_teste_stemizacao(): \n",
    "    X = list(reviews['review_comment_message_estemizadas'])\n",
    "    y = reviews['class'].values\n",
    "    y = y.astype(int)\n",
    "\n",
    "    # Vocabulário stem\n",
    "    vocabulario = set()\n",
    "    for x in X:\n",
    "        for p in x.split():\n",
    "            vocabulario.add(p)\n",
    "    vocabulario = list(vocabulario)\n",
    "    vocabulario.sort()\n",
    "\n",
    "    vetorizador_tfidf = TfidfVectorizer(lowercase=False, max_features=300, vocabulary=vocabulario)\n",
    "    X_transformado = vetorizador_tfidf.fit_transform(X).toarray()\n",
    "\n",
    "    X_treino, X_teste, y_treino, y_teste = train_test_split(X_transformado, y, test_size=0.3)\n",
    "\n",
    "    return X_treino, X_teste, y_treino, y_teste, vetorizador_tfidf\n",
    "\n",
    "def cria_dados_treinamento_teste_lematizacao():\n",
    "    X = list(reviews['review_comment_message_lematizadas'])\n",
    "    y = reviews['class'].values\n",
    "    y = y.astype(int)\n",
    "\n",
    "    # Vocabulário lema\n",
    "    vocabulario = set()\n",
    "    for x in X:\n",
    "        for p in x.split():\n",
    "            vocabulario.add(p)\n",
    "    vocabulario = list(vocabulario)\n",
    "    vocabulario.sort()\n",
    "\n",
    "    vetorizador_tfidf = TfidfVectorizer(lowercase=False, max_features=300, vocabulary=vocabulario)\n",
    "    X_transformado = vetorizador_tfidf.fit_transform(X).toarray()\n",
    "    X_treino, X_teste, y_treino, y_teste = train_test_split(X_transformado, y, test_size=0.3)\n",
    "\n",
    "    return X_treino, X_teste, y_treino, y_teste, vetorizador_tfidf"
   ]
  },
  {
   "cell_type": "markdown",
   "metadata": {},
   "source": [
    "# Treinando modelos, definindo o melhor com base no score"
   ]
  },
  {
   "cell_type": "code",
   "execution_count": 87,
   "metadata": {},
   "outputs": [],
   "source": [
    "from sklearn.neural_network import MLPClassifier\n",
    "from sklearn.metrics import mean_squared_error as MSE\n",
    "\"\"\"\n",
    "    Após algumas tentativas, esses foram os melhores parâmetros encontrados para o modelo:\n",
    "    # MLPClassifier(activation='relu', alpha=0.0001, batch_size='auto', beta_1=0.9,\n",
    "    #               beta_2=0.999, early_stopping=False, epsilon=1e-08,\n",
    "    #               hidden_layer_sizes=(5, 5), learning_rate='constant',\n",
    "    #               learning_rate_init=0.001, max_iter=200, momentum=0.9,\n",
    "    #               n_iter_no_change=10, nesterovs_momentum=True, power_t=0.5,\n",
    "    #               random_state=None, shuffle=True, solver='sgd', tol=0.0001,\n",
    "    #               validation_fraction=0.1, verbose=False, warm_start=False)\n",
    "\"\"\"\n",
    "def gridSearch_MLP(X_treino, y_treino, X_teste, y_teste):\n",
    "    \"\"\"\n",
    "        Parâmetros testados\n",
    "        # neuronios =  [(5,), (5,5), (1,5,10)]\n",
    "        # func_activation = ['tanh', 'relu']\n",
    "        # alg_treinamento = ['lbfgs', 'adam', 'sgd']\n",
    "        # learning_rate_init = [0.001, 0.005, 0.01]\n",
    "        # learning_rate = ['constant', 'adaptive', 'invscaling']\n",
    "    \"\"\"\n",
    "    neuronios =  [(5,5)] \n",
    "    func_activation = ['relu']\n",
    "    alg_treinamento = ['sgd']\n",
    "    learning_rate_init = [0.001]\n",
    "    learning_rate = ['constant']\n",
    "    best_result = np.Inf\n",
    "    melhor_modelo = None\n",
    "    for i in range(0,len(neuronios)):\n",
    "        for j in range(0,len(func_activation)):\n",
    "            for l in range(0,len(alg_treinamento)):\n",
    "                for m in range(0,len(learning_rate_init)):\n",
    "                    for n in range(0,len(learning_rate)):\n",
    "                        mlp = MLPClassifier(hidden_layer_sizes=neuronios[i], activation=func_activation[j], solver=alg_treinamento[l], learning_rate_init=learning_rate_init[m], learning_rate= learning_rate[n])\n",
    "                        mlp.fit(X_treino, y_treino)\n",
    "                        predict_validation = mlp.predict(X_teste)\n",
    "                        mse = MSE(y_teste, predict_validation)\n",
    "                        if mse < best_result:\n",
    "                            best_result = mse\n",
    "                            melhor_modelo = mlp\n",
    "#     print(melhor_modelo)\n",
    "    return melhor_modelo\n",
    "\n",
    "from sklearn.naive_bayes import GaussianNB\n",
    "def clf_gaussian_NB(X_treino, y_treino):\n",
    "    classificador_nb = GaussianNB()\n",
    "    classificador_nb.fit(X_treino, y_treino)\n",
    "    return classificador_nb\n",
    "\n",
    "def get_melhor_modelo(X_teste, y_teste, mlp, nb):\n",
    "    melhor_modelo = None\n",
    "    mlp_score = mlp.score(X_teste, y_teste)\n",
    "    nb_score = nb.score(X_teste, y_teste)\n",
    "    if nb_score >= mlp_score:\n",
    "        melhor_modelo = nb\n",
    "        melhor_score = nb_score\n",
    "    else: \n",
    "        melhor_modelo = mlp\n",
    "        melhor_score = mlp_score\n",
    "\n",
    "    return melhor_modelo, melhor_score"
   ]
  },
  {
   "cell_type": "markdown",
   "metadata": {},
   "source": [
    " # Plota o resultado da validação"
   ]
  },
  {
   "cell_type": "code",
   "execution_count": 88,
   "metadata": {},
   "outputs": [],
   "source": [
    "import matplotlib.pyplot as plt\n",
    "#plotando\n",
    "def plot_sentimento(model, frase):\n",
    "    pred = model.predict(frase)\n",
    "    fig, ax = plt.subplots(figsize=(5, 3))\n",
    "    if pred[0] == 1:\n",
    "        text = 'Positivo'\n",
    "        proba = 100 * round(model.predict_proba(frase)[0][1], 4)\n",
    "        color = 'seagreen'\n",
    "    else:\n",
    "        text = 'Negativo'\n",
    "        proba = 100 * round(model.predict_proba(frase)[0][0], 4)\n",
    "        color = 'crimson'\n",
    "    ax.text(0.5, 0.5, text, fontsize=50, ha='center', color=color)\n",
    "    ax.text(0.5, 0.20, str(proba) + '%', fontsize=14, ha='center')\n",
    "    ax.axis('off')\n",
    "    ax.set_title('Sentimento', fontsize=14)\n",
    "    print(text + ': ', proba)\n",
    "    plt.show()"
   ]
  },
  {
   "cell_type": "markdown",
   "metadata": {},
   "source": [
    "# Pre processamento para o texto de validação"
   ]
  },
  {
   "cell_type": "code",
   "execution_count": 89,
   "metadata": {},
   "outputs": [],
   "source": [
    "def pre_processamento_texto_validacao(texto):\n",
    "    texto = texto.lower()\n",
    "    texto = remove_palavras_range_3_25(texto)\n",
    "    texto = remove_stopwords(texto) \n",
    "    texto = remove_pontuacao(texto)\n",
    "    texto = remove_acentuacao(texto)\n",
    "    texto = rotulacao(texto)\n",
    "    return texto\n",
    "\n",
    "def pre_processamento_texto_validacao_estemizacao(texto):\n",
    "    texto = pre_processamento_texto_validacao(texto)\n",
    "    texto = estemizacao(texto)\n",
    "    return texto\n",
    "\n",
    "def pre_processamento_texto_validacao_lematizacao(texto):\n",
    "    texto = pre_processamento_texto_validacao(texto)\n",
    "    texto = lematizacao(texto)\n",
    "    return texto"
   ]
  },
  {
   "cell_type": "markdown",
   "metadata": {},
   "source": [
    "# Realiza o gridSearch para MLP e GaussianNB com dados de Stemização e Lematização"
   ]
  },
  {
   "cell_type": "code",
   "execution_count": 90,
   "metadata": {},
   "outputs": [],
   "source": [
    "def treina_modelo_stemizacao(X_treino, y_treino, X_teste, y_teste):\n",
    "    start = time()\n",
    "    mlp = gridSearch_MLP(X_treino, y_treino, X_teste, y_teste)\n",
    "    print(\"Tempo para gridSearch_MLP: {:.2f} sec\".format(time() - start))\n",
    "    print('Score MLP:', mlp.score(X_teste, y_teste))\n",
    "\n",
    "    start = time()\n",
    "    nb = clf_gaussian_NB(X_treino, y_treino)\n",
    "    print('Score GaussianNB:', nb.score(X_teste, y_teste))\n",
    "    print(\"Tempo para GaussianNB: {:.2f} sec\".format(time() - start))\n",
    "\n",
    "    return mlp, nb\n",
    "\n",
    "def treina_modelo_lematizacao(X_treino, y_treino, X_teste, y_teste):\n",
    "    start = time()\n",
    "    mlp = gridSearch_MLP(X_treino, y_treino, X_teste, y_teste)\n",
    "    print(\"Tempo para gridSearch_MLP: {:.2f} sec\".format(time() - start))\n",
    "    print('Score MLP:', mlp.score(X_teste, y_teste))\n",
    "\n",
    "    start = time()\n",
    "    nb = clf_gaussian_NB(X_treino, y_treino)\n",
    "    print('Score GaussianNB:', nb.score(X_teste, y_teste))\n",
    "    print(\"Tempo para GaussianNB: {:.2f} sec\".format(time() - start))\n",
    "\n",
    "    return mlp, nb\n",
    "\n",
    "def get_modelo_e_vetorizador_com_stemizacao():\n",
    "    # com stemizacao\n",
    "    X_treino, X_teste, y_treino, y_teste, vetorizador_tfidf = cria_dados_treinamento_teste_stemizacao()\n",
    "    mlp, nb = treina_modelo_stemizacao(X_treino, y_treino, X_teste, y_teste)\n",
    "    melhor_modelo, melhor_score = get_melhor_modelo(X_teste, y_teste, mlp, nb)\n",
    "    print('Score modelo para stemizacao', melhor_score)\n",
    "    return melhor_modelo, vetorizador_tfidf\n",
    "\n",
    "def get_modelo_e_vetorizador_com_lematizacao():\n",
    "    # com lematizacao\n",
    "    X_treino, X_teste, y_treino, y_teste, vetorizador_tfidf = cria_dados_treinamento_teste_lematizacao()\n",
    "    mlp, nb = treina_modelo_lematizacao(X_treino, y_treino, X_teste, y_teste)\n",
    "    melhor_modelo, melhor_score = get_melhor_modelo(X_teste, y_teste, mlp, nb)\n",
    "    print('Score modelo para lematizacao', melhor_score)\n",
    "    return melhor_modelo, vetorizador_tfidf\n"
   ]
  },
  {
   "cell_type": "markdown",
   "metadata": {},
   "source": [
    "# Roda tudo :)\n",
    "Os dados utilizados com Stemização, obtiveram resultados melhores visto que o modelo acertou os dois sentimentos, negativo seguido de postivo, obtendo um acerto simbólico de 100%. Enquanto que o modelo com os dados de lematização, indicou que as duas frases possuíam sentido positivo, acertando assim 50%. Tem que se levar em conta o tempo de processamento do texto para stemização e lematização, onde foram, 38.97 sec e 271.29 sec respectivamente. Mais um ponto para stemização.\n",
    "Stemização 2 x 0 Lematização"
   ]
  },
  {
   "cell_type": "code",
   "execution_count": 91,
   "metadata": {},
   "outputs": [],
   "source": [
    "#Realiza todo o processo\n",
    "def main():\n",
    "    preprocessamento_texto_dataframe()\n",
    "    cria_label_sentimento_dataframe(reviews)\n",
    "\n",
    "    frase_neg = 'Péssimo produto! Totalmente diferente do anúncio!!!!'\n",
    "    frase_pos = 'Muito bom! Gostei da qualidade do produto e a entrega foi dentro do prazo. Parabéns!!!'\n",
    "\n",
    "    modelo_stem, vetorizador_stem = get_modelo_e_vetorizador_com_stemizacao()\n",
    "    modelo_lem, vetorizador_lem = get_modelo_e_vetorizador_com_lematizacao()\n",
    "    #validação com stem\n",
    "    frase_neg = pre_processamento_texto_validacao_estemizacao(frase_neg)\n",
    "    frase_pos = pre_processamento_texto_validacao_estemizacao(frase_pos)\n",
    "    frase_neg_preprocessada = vetorizador_stem.transform([frase_neg]).toarray()\n",
    "    frase_pos_preprocessada = vetorizador_stem.transform([frase_pos]).toarray()\n",
    "    plot_sentimento(modelo_stem, frase_neg_preprocessada)\n",
    "    plot_sentimento(modelo_stem, frase_pos_preprocessada)\n",
    "    #validação com lema\n",
    "    frase_neg = pre_processamento_texto_validacao_lematizacao(frase_neg)\n",
    "    frase_pos = pre_processamento_texto_validacao_lematizacao(frase_pos)\n",
    "    frase_neg_preprocessada = vetorizador_lem.transform([frase_neg]).toarray()\n",
    "    frase_pos_preprocessada = vetorizador_lem.transform([frase_pos]).toarray()\n",
    "    plot_sentimento(modelo_lem, frase_neg_preprocessada)\n",
    "    plot_sentimento(modelo_lem, frase_pos_preprocessada)"
   ]
  },
  {
   "cell_type": "code",
   "execution_count": 92,
   "metadata": {},
   "outputs": [
    {
     "name": "stderr",
     "output_type": "stream",
     "text": [
      "C:\\Users\\Renhold\\AppData\\Roaming\\Python\\Python37\\site-packages\\ipykernel_launcher.py:3: SettingWithCopyWarning: \n",
      "A value is trying to be set on a copy of a slice from a DataFrame.\n",
      "Try using .loc[row_indexer,col_indexer] = value instead\n",
      "\n",
      "See the caveats in the documentation: http://pandas.pydata.org/pandas-docs/stable/indexing.html#indexing-view-versus-copy\n",
      "  This is separate from the ipykernel package so we can avoid doing imports until\n"
     ]
    },
    {
     "name": "stdout",
     "output_type": "stream",
     "text": [
      "Tempo para remove_palavras_range_3_25: 0.23 sec\n"
     ]
    },
    {
     "name": "stderr",
     "output_type": "stream",
     "text": [
      "C:\\Users\\Renhold\\AppData\\Roaming\\Python\\Python37\\site-packages\\ipykernel_launcher.py:6: SettingWithCopyWarning: \n",
      "A value is trying to be set on a copy of a slice from a DataFrame.\n",
      "Try using .loc[row_indexer,col_indexer] = value instead\n",
      "\n",
      "See the caveats in the documentation: http://pandas.pydata.org/pandas-docs/stable/indexing.html#indexing-view-versus-copy\n",
      "  \n"
     ]
    },
    {
     "name": "stdout",
     "output_type": "stream",
     "text": [
      "Tempo para remove_stopwords: 0.85 sec\n"
     ]
    },
    {
     "name": "stderr",
     "output_type": "stream",
     "text": [
      "C:\\Users\\Renhold\\AppData\\Roaming\\Python\\Python37\\site-packages\\ipykernel_launcher.py:9: SettingWithCopyWarning: \n",
      "A value is trying to be set on a copy of a slice from a DataFrame.\n",
      "Try using .loc[row_indexer,col_indexer] = value instead\n",
      "\n",
      "See the caveats in the documentation: http://pandas.pydata.org/pandas-docs/stable/indexing.html#indexing-view-versus-copy\n",
      "  if __name__ == '__main__':\n"
     ]
    },
    {
     "name": "stdout",
     "output_type": "stream",
     "text": [
      "Tempo para remove_acentuacao: 0.13 sec\n"
     ]
    },
    {
     "name": "stderr",
     "output_type": "stream",
     "text": [
      "C:\\Users\\Renhold\\AppData\\Roaming\\Python\\Python37\\site-packages\\ipykernel_launcher.py:12: SettingWithCopyWarning: \n",
      "A value is trying to be set on a copy of a slice from a DataFrame.\n",
      "Try using .loc[row_indexer,col_indexer] = value instead\n",
      "\n",
      "See the caveats in the documentation: http://pandas.pydata.org/pandas-docs/stable/indexing.html#indexing-view-versus-copy\n",
      "  if sys.path[0] == '':\n"
     ]
    },
    {
     "name": "stdout",
     "output_type": "stream",
     "text": [
      "Tempo para remove_pontuacao: 350.98 sec\n"
     ]
    },
    {
     "name": "stderr",
     "output_type": "stream",
     "text": [
      "C:\\Users\\Renhold\\AppData\\Roaming\\Python\\Python37\\site-packages\\ipykernel_launcher.py:15: SettingWithCopyWarning: \n",
      "A value is trying to be set on a copy of a slice from a DataFrame.\n",
      "Try using .loc[row_indexer,col_indexer] = value instead\n",
      "\n",
      "See the caveats in the documentation: http://pandas.pydata.org/pandas-docs/stable/indexing.html#indexing-view-versus-copy\n",
      "  from ipykernel import kernelapp as app\n"
     ]
    },
    {
     "name": "stdout",
     "output_type": "stream",
     "text": [
      "Tempo para remove_palavras_baixa_sequencia: 0.27 sec\n"
     ]
    },
    {
     "name": "stderr",
     "output_type": "stream",
     "text": [
      "C:\\Users\\Renhold\\AppData\\Roaming\\Python\\Python37\\site-packages\\ipykernel_launcher.py:18: SettingWithCopyWarning: \n",
      "A value is trying to be set on a copy of a slice from a DataFrame.\n",
      "Try using .loc[row_indexer,col_indexer] = value instead\n",
      "\n",
      "See the caveats in the documentation: http://pandas.pydata.org/pandas-docs/stable/indexing.html#indexing-view-versus-copy\n"
     ]
    },
    {
     "name": "stdout",
     "output_type": "stream",
     "text": [
      "Tempo para rotulacao: 323.84 sec\n"
     ]
    },
    {
     "name": "stderr",
     "output_type": "stream",
     "text": [
      "C:\\Users\\Renhold\\AppData\\Roaming\\Python\\Python37\\site-packages\\ipykernel_launcher.py:21: SettingWithCopyWarning: \n",
      "A value is trying to be set on a copy of a slice from a DataFrame.\n",
      "Try using .loc[row_indexer,col_indexer] = value instead\n",
      "\n",
      "See the caveats in the documentation: http://pandas.pydata.org/pandas-docs/stable/indexing.html#indexing-view-versus-copy\n"
     ]
    },
    {
     "name": "stdout",
     "output_type": "stream",
     "text": [
      "Tempo para estemizacao: 38.97 sec\n"
     ]
    },
    {
     "name": "stderr",
     "output_type": "stream",
     "text": [
      "C:\\Users\\Renhold\\AppData\\Roaming\\Python\\Python37\\site-packages\\ipykernel_launcher.py:24: SettingWithCopyWarning: \n",
      "A value is trying to be set on a copy of a slice from a DataFrame.\n",
      "Try using .loc[row_indexer,col_indexer] = value instead\n",
      "\n",
      "See the caveats in the documentation: http://pandas.pydata.org/pandas-docs/stable/indexing.html#indexing-view-versus-copy\n"
     ]
    },
    {
     "name": "stdout",
     "output_type": "stream",
     "text": [
      "Tempo para lematizacao: 271.29 sec\n"
     ]
    },
    {
     "name": "stderr",
     "output_type": "stream",
     "text": [
      "C:\\Users\\Renhold\\AppData\\Roaming\\Python\\Python37\\site-packages\\ipykernel_launcher.py:27: SettingWithCopyWarning: \n",
      "A value is trying to be set on a copy of a slice from a DataFrame.\n",
      "Try using .loc[row_indexer,col_indexer] = value instead\n",
      "\n",
      "See the caveats in the documentation: http://pandas.pydata.org/pandas-docs/stable/indexing.html#indexing-view-versus-copy\n"
     ]
    },
    {
     "name": "stdout",
     "output_type": "stream",
     "text": [
      "Tempo para remove_palavras_range_3_25(stem): 0.13 sec\n"
     ]
    },
    {
     "name": "stderr",
     "output_type": "stream",
     "text": [
      "C:\\Users\\Renhold\\AppData\\Roaming\\Python\\Python37\\site-packages\\ipykernel_launcher.py:30: SettingWithCopyWarning: \n",
      "A value is trying to be set on a copy of a slice from a DataFrame.\n",
      "Try using .loc[row_indexer,col_indexer] = value instead\n",
      "\n",
      "See the caveats in the documentation: http://pandas.pydata.org/pandas-docs/stable/indexing.html#indexing-view-versus-copy\n"
     ]
    },
    {
     "name": "stdout",
     "output_type": "stream",
     "text": [
      "Tempo para remove_palavras_range_3_25(lem): 0.13 sec\n"
     ]
    },
    {
     "name": "stderr",
     "output_type": "stream",
     "text": [
      "C:\\Users\\Renhold\\AppData\\Roaming\\Python\\Python37\\site-packages\\ipykernel_launcher.py:5: SettingWithCopyWarning: \n",
      "A value is trying to be set on a copy of a slice from a DataFrame.\n",
      "Try using .loc[row_indexer,col_indexer] = value instead\n",
      "\n",
      "See the caveats in the documentation: http://pandas.pydata.org/pandas-docs/stable/indexing.html#indexing-view-versus-copy\n",
      "  \"\"\"\n"
     ]
    },
    {
     "name": "stdout",
     "output_type": "stream",
     "text": [
      "Tempo para class label: 0.09 sec\n"
     ]
    },
    {
     "name": "stderr",
     "output_type": "stream",
     "text": [
      "C:\\Users\\Renhold\\Anaconda3\\lib\\site-packages\\sklearn\\neural_network\\multilayer_perceptron.py:562: ConvergenceWarning: Stochastic Optimizer: Maximum iterations (200) reached and the optimization hasn't converged yet.\n",
      "  % self.max_iter, ConvergenceWarning)\n"
     ]
    },
    {
     "name": "stdout",
     "output_type": "stream",
     "text": [
      "Tempo para gridSearch_MLP: 68.52 sec\n",
      "Score MLP: 0.8564585661823407\n",
      "Score GaussianNB: 0.6178349034009261\n",
      "Tempo para GaussianNB: 1.38 sec\n",
      "Score modelo para stemizacao 0.8564585661823407\n"
     ]
    },
    {
     "name": "stderr",
     "output_type": "stream",
     "text": [
      "C:\\Users\\Renhold\\Anaconda3\\lib\\site-packages\\sklearn\\neural_network\\multilayer_perceptron.py:562: ConvergenceWarning: Stochastic Optimizer: Maximum iterations (200) reached and the optimization hasn't converged yet.\n",
      "  % self.max_iter, ConvergenceWarning)\n"
     ]
    },
    {
     "name": "stdout",
     "output_type": "stream",
     "text": [
      "Tempo para gridSearch_MLP: 73.78 sec\n",
      "Score MLP: 0.8558198946191921\n",
      "Score GaussianNB: 0.516605460641865\n",
      "Tempo para GaussianNB: 1.51 sec\n",
      "Score modelo para lematizacao 0.8558198946191921\n",
      "Negativo:  84.24000000000001\n"
     ]
    },
    {
     "data": {
      "image/png": "[encoded data removed]",
      "text/plain": [
       "<Figure size 360x216 with 1 Axes>"
      ]
     },
     "metadata": {
      "needs_background": "light"
     },
     "output_type": "display_data"
    },
    {
     "name": "stdout",
     "output_type": "stream",
     "text": [
      "Positivo:  97.31\n"
     ]
    },
    {
     "data": {
      "image/png": "[encoded data removed]",
      "text/plain": [
       "<Figure size 360x216 with 1 Axes>"
      ]
     },
     "metadata": {
      "needs_background": "light"
     },
     "output_type": "display_data"
    },
    {
     "name": "stdout",
     "output_type": "stream",
     "text": [
      "Positivo:  87.9\n"
     ]
    },
    {
     "data": {
      "image/png": "[encoded data removed]",
      "text/plain": [
       "<Figure size 360x216 with 1 Axes>"
      ]
     },
     "metadata": {
      "needs_background": "light"
     },
     "output_type": "display_data"
    },
    {
     "name": "stdout",
     "output_type": "stream",
     "text": [
      "Positivo:  92.97\n"
     ]
    },
    {
     "data": {
      "image/png": "[encoded data removed]",
      "text/plain": [
       "<Figure size 360x216 with 1 Axes>"
      ]
     },
     "metadata": {
      "needs_background": "light"
     },
     "output_type": "display_data"
    }
   ],
   "source": [
    "if __name__ == \"__main__\":\n",
    "    main()"
   ]
  },
  {
   "cell_type": "markdown",
   "metadata": {},
   "source": [
    "# Conclusão\n",
    "Não é difícil criar uma solução como esta porém é trabalhosa, os dados precisam ser tratados com normalização, e filtrados. Existem muitas informações irrelevantes, como emojis, gírias, erros de português etc. E após vários testes, a melhor taxa de acurácia do modelo de redes neurais MLP, foi de 85%, o que é uma taxa aceitável. Ótimo aprendizado, fiquei satisfeito."
   ]
  }
 ],
 "metadata": {
  "kernelspec": {
   "display_name": "Python 3",
   "language": "python",
   "name": "python3"
  },
  "language_info": {
   "codemirror_mode": {
    "name": "ipython",
    "version": 3
   },
   "file_extension": ".py",
   "mimetype": "text/x-python",
   "name": "python",
   "nbconvert_exporter": "python",
   "pygments_lexer": "ipython3",
   "version": "3.7.3"
  }
 },
 "nbformat": 4,
 "nbformat_minor": 2
}
